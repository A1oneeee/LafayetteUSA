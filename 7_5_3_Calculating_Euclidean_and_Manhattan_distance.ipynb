{
  "nbformat": 4,
  "nbformat_minor": 0,
  "metadata": {
    "colab": {
      "provenance": []
    },
    "kernelspec": {
      "name": "python3",
      "display_name": "Python 3"
    },
    "language_info": {
      "name": "python"
    }
  },
  "cells": [
    {
      "cell_type": "code",
      "execution_count": 1,
      "metadata": {
        "id": "WjMwG4gm1fYI"
      },
      "outputs": [],
      "source": [
        "import numpy as np"
      ]
    },
    {
      "cell_type": "code",
      "source": [
        "# consider two points with two dimensions\n",
        "p1 = (1,1)\n",
        "p2 = (2,2)"
      ],
      "metadata": {
        "id": "Fn267faR1thl"
      },
      "execution_count": 4,
      "outputs": []
    },
    {
      "cell_type": "code",
      "source": [
        "#calculating Euclidean Distance\n",
        "dist = (p1[0] - p2[0]) ** 2 + (p1[1] - p2[1]) ** 2\n",
        "euclidean_dist = np.sqrt(dist)"
      ],
      "metadata": {
        "id": "dHdkcueG104z"
      },
      "execution_count": 11,
      "outputs": []
    },
    {
      "cell_type": "code",
      "source": [
        "print(euclidean_dist)"
      ],
      "metadata": {
        "colab": {
          "base_uri": "https://localhost:8080/"
        },
        "id": "uPK8qgVQ2GRE",
        "outputId": "a2b237cc-8abc-4dbe-bf9e-0bd12e9ad129"
      },
      "execution_count": 12,
      "outputs": [
        {
          "output_type": "stream",
          "name": "stdout",
          "text": [
            "1.4142135623730951\n"
          ]
        }
      ]
    },
    {
      "cell_type": "code",
      "source": [
        "# concider two points with 3 dimensions\n",
        "p1 = (1, 1, 1)\n",
        "p2 = (2, 2, 2)\n",
        "\n",
        "# calculating Euclidean Distance\n",
        "dist = (p1[0] - p2[0]) ** 2 + (p1[1] - p2[1]) ** 2 + (p1[2] - p2[2]) ** 2\n",
        "\n",
        "euclidean_dist = np.sqrt(dist)\n",
        "print(euclidean_dist)"
      ],
      "metadata": {
        "colab": {
          "base_uri": "https://localhost:8080/"
        },
        "id": "JxPIRN3h2rhg",
        "outputId": "a0b0925a-046c-4c19-a110-941cd1ab3822"
      },
      "execution_count": 13,
      "outputs": [
        {
          "output_type": "stream",
          "name": "stdout",
          "text": [
            "1.7320508075688772\n"
          ]
        }
      ]
    },
    {
      "cell_type": "code",
      "source": [
        "# concider two points with 4 dimensions\n",
        "p1 = (1, 1, 1, 1)\n",
        "p2 = (2, 2, 2, 2)\n",
        "\n",
        "dist = 0\n",
        "\n",
        "for i in range(len(p1)):\n",
        "  dist += (p1[i] - p2[i]) ** 2\n",
        "\n",
        "euclidean_dist = np.sqrt(dist)\n",
        "print(euclidean_dist)"
      ],
      "metadata": {
        "colab": {
          "base_uri": "https://localhost:8080/"
        },
        "id": "fcaSMIAB3QLe",
        "outputId": "a5eda88a-0da1-4767-8305-4f169b954f76"
      },
      "execution_count": 14,
      "outputs": [
        {
          "output_type": "stream",
          "name": "stdout",
          "text": [
            "2.0\n"
          ]
        }
      ]
    },
    {
      "cell_type": "markdown",
      "source": [
        "Creating a function for calculation Euclidean Distance"
      ],
      "metadata": {
        "id": "0ImYSv_W3iZO"
      }
    },
    {
      "cell_type": "code",
      "source": [
        "def get_euclidean_distance(p1, p2):\n",
        "  dist = 0\n",
        "  for i in range(len(p1)):\n",
        "    dist += (p1[i] - p2[i]) ** 2\n",
        "  euclidean_dist = np.sqrt(dist)\n",
        "  print(euclidean_dist)"
      ],
      "metadata": {
        "id": "xt3eGvIR3hnI"
      },
      "execution_count": 17,
      "outputs": []
    },
    {
      "cell_type": "code",
      "source": [
        "get_euclidean_distance(p1, p2)"
      ],
      "metadata": {
        "colab": {
          "base_uri": "https://localhost:8080/"
        },
        "id": "qPw1PKIE3uEP",
        "outputId": "ecd4370b-ba77-4a39-ae95-5e36bd97d67b"
      },
      "execution_count": 18,
      "outputs": [
        {
          "output_type": "stream",
          "name": "stdout",
          "text": [
            "2.0\n"
          ]
        }
      ]
    },
    {
      "cell_type": "markdown",
      "source": [
        "**Manhattan Distance**"
      ],
      "metadata": {
        "id": "98BgVIpT2lxj"
      }
    },
    {
      "cell_type": "markdown",
      "source": [
        "Creating a function for Manhattan Distance"
      ],
      "metadata": {
        "id": "D7koPp324FFP"
      }
    },
    {
      "cell_type": "code",
      "source": [
        "def get_manhattan_distance(p1, p2):\n",
        "  manhattan_dist = 0\n",
        "  for i in range(len(p1)):\n",
        "    manhattan_dist += abs(p1[i] - p2[i])\n",
        "  print(manhattan_dist)"
      ],
      "metadata": {
        "id": "n9awPvZi2JvD"
      },
      "execution_count": 29,
      "outputs": []
    },
    {
      "cell_type": "code",
      "source": [
        "get_manhattan_distance((1,1,1,1), (2,2,2,2) )"
      ],
      "metadata": {
        "colab": {
          "base_uri": "https://localhost:8080/"
        },
        "id": "4ysHHBw94OL0",
        "outputId": "665f6694-efdd-4c53-8eda-a3b7a5d7d5a4"
      },
      "execution_count": 30,
      "outputs": [
        {
          "output_type": "stream",
          "name": "stdout",
          "text": [
            "4\n"
          ]
        }
      ]
    },
    {
      "cell_type": "markdown",
      "source": [
        "Calculating distance between two data points"
      ],
      "metadata": {
        "id": "f7Vkp59p4y6V"
      }
    },
    {
      "cell_type": "markdown",
      "source": [],
      "metadata": {
        "id": "nxn377gb5mrA"
      }
    },
    {
      "cell_type": "code",
      "source": [
        "# distance between two dissimilar data points\n",
        "get_euclidean_distance( (63,1,3,145,233,1,0,150,0,2.3,0,0,1) , (41,0,1,130,204,0,0,172,0,1.4,2,0,2) )\n",
        "get_manhattan_distance( (63,1,3,145,233,1,0,150,0,2.3,0,0,1) , (41,0,1,130,204,0,0,172,0,1.4,2,0,2) )"
      ],
      "metadata": {
        "colab": {
          "base_uri": "https://localhost:8080/"
        },
        "id": "EXDDfSSG4RYV",
        "outputId": "7f45e218-1efb-4a2f-c014-59790c3a99e3"
      },
      "execution_count": 34,
      "outputs": [
        {
          "output_type": "stream",
          "name": "stdout",
          "text": [
            "45.230631213813496\n",
            "95.9\n"
          ]
        }
      ]
    },
    {
      "cell_type": "code",
      "source": [
        "# distance between two similar data points\n",
        "get_euclidean_distance( (63,1,3,145,233,1,0,150,0,2.3,0,0,1) , (69,0,3,140,239,0,1,151,0,1.8,2,2,2) )\n",
        "get_manhattan_distance( (63,1,3,145,233,1,0,150,0,2.3,0,0,1) , (69,0,3,140,239,0,1,151,0,1.8,2,2,2) )"
      ],
      "metadata": {
        "colab": {
          "base_uri": "https://localhost:8080/"
        },
        "id": "jfmFSDys5UZd",
        "outputId": "b5240f3e-5aeb-4730-cd58-9a59d7730781"
      },
      "execution_count": 35,
      "outputs": [
        {
          "output_type": "stream",
          "name": "stdout",
          "text": [
            "10.5\n",
            "26.5\n"
          ]
        }
      ]
    },
    {
      "cell_type": "code",
      "source": [],
      "metadata": {
        "id": "sGwaW14i5pzV"
      },
      "execution_count": null,
      "outputs": []
    }
  ]
}